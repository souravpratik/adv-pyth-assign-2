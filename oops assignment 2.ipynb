{
 "cells": [
  {
   "cell_type": "markdown",
   "id": "00eb2eaa",
   "metadata": {},
   "source": [
    "# Assignment-02 (Python adv.)"
   ]
  },
  {
   "cell_type": "raw",
   "id": "f241c6c9",
   "metadata": {},
   "source": [
    "Question 1: What is the relationship between classes and modules?\n",
    "\n",
    "Solution:  A module in python is simply a way to organize the code, and it contains either python classes or just functions. If            we need those classes or functions in our project, we just import them. For example, the math module in python                  contains just a bunch of functions, and we just call those are needed."
   ]
  },
  {
   "cell_type": "raw",
   "id": "93f58554",
   "metadata": {},
   "source": [
    "Question 2: How do you make instances and classes?\n",
    "\n",
    "Solution:  Classes can be defined by simply introducing class name with a keyword named as \"class\".\n",
    "           Instances can be introduced with a keyword named as \"def\",\n",
    "           post introduction variables can be defined using \"_init_\" method in which first variable act as pointer..\n",
    "           for example:\n",
    "           \n",
    "           class employee:\n",
    "           \n",
    "             def _init_(self,name,age,department):\n",
    "               self.name=name\n",
    "               self.age=age\n",
    "               self.dept=department\n",
    "             \n",
    "           \n",
    "           "
   ]
  },
  {
   "cell_type": "raw",
   "id": "5116a4b6",
   "metadata": {},
   "source": [
    "Question 3: Where and how should be class attributes created?\n",
    "\n",
    "Solution : Class attributes belong to the class itself they will be shared by all the instances. Such attributes are defined in            the class body parts usually at the top. "
   ]
  },
  {
   "cell_type": "raw",
   "id": "c0fa86ac",
   "metadata": {},
   "source": [
    "Question 4: Where and how are instance attributes created?\n",
    "\n",
    "solution:   We also created instance attributes by just declaring them and assigning a value to them outside of the class.                 There is another way to do it, which uses the \"__init__\" method. It’s a constructor method that is automatically               called after an instance of a class has been created."
   ]
  },
  {
   "cell_type": "raw",
   "id": "9ca65357",
   "metadata": {},
   "source": [
    "Question 5: What does the term \"self\" in a Python class mean?\n",
    "\n",
    "Solution :  \"self\" represents the instance of the class.\n",
    "            By using 'self' keyword we can access the attributes and methods of class in python.  \n",
    "            It act as pointer within inistance attributes."
   ]
  },
  {
   "cell_type": "raw",
   "id": "416ac6d8",
   "metadata": {},
   "source": [
    "Question 6: How does a Python class handle operator overloading?\n",
    "\n",
    "Solution : To perform operator overloading, Python provides some special function that is automatically invoked when it is                associated with that particular operator. \n",
    "           For example, when we use '+' operator, the special function '__add__' is automatically invoked in which the                    operation for '+' operator is defined."
   ]
  },
  {
   "cell_type": "raw",
   "id": "5e86470b",
   "metadata": {},
   "source": [
    "Question 7: When do you consider allowing operator overloading of your classes?\n",
    "\n",
    "Solution : Operator Overloading means giving extended meaning beyond their predefined operational meaning.\n",
    "           For example operator '+' is used to add two integers as well as join two strings and merge two lists. It is                    achievable because \"+\" operator is overloaded by int class and str class."
   ]
  },
  {
   "cell_type": "raw",
   "id": "7d070258",
   "metadata": {},
   "source": [
    "Question 8: What is the most popular form of operator overloading?\n",
    "\n",
    "Solution :  The most frequent instance is the adding up operator ‘+’, where it can be used for the usual addition and also for             combining two different strings."
   ]
  },
  {
   "cell_type": "raw",
   "id": "b647f9e8",
   "metadata": {},
   "source": [
    "Question 9: What are the two most important concepts to grasp in order to comprehend Python OOP code?\n",
    "\n",
    "Solution :  In order to comprehend Python OOP code two important concepts are :  Inheritance and Polymorphism."
   ]
  }
 ],
 "metadata": {
  "kernelspec": {
   "display_name": "Python 3 (ipykernel)",
   "language": "python",
   "name": "python3"
  },
  "language_info": {
   "codemirror_mode": {
    "name": "ipython",
    "version": 3
   },
   "file_extension": ".py",
   "mimetype": "text/x-python",
   "name": "python",
   "nbconvert_exporter": "python",
   "pygments_lexer": "ipython3",
   "version": "3.9.7"
  }
 },
 "nbformat": 4,
 "nbformat_minor": 5
}
